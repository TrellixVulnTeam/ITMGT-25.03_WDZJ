{
 "cells": [
  {
   "cell_type": "code",
   "execution_count": 3,
   "id": "4a2d83d2-42b8-4c72-8aa0-406ce2a744f6",
   "metadata": {},
   "outputs": [
    {
     "name": "stdout",
     "output_type": "stream",
     "text": [
      "What's your name?      angel mendi      \n"
     ]
    },
    {
     "name": "stdout",
     "output_type": "stream",
     "text": [
      "hello, Angel Mendi\n"
     ]
    }
   ],
   "source": [
    "name = input(\"What's your name? \").strip().title()\n",
    "print(f\"hello, {name}\")"
   ]
  },
  {
   "cell_type": "code",
   "execution_count": 1,
   "id": "a9334f97-ff32-4b93-bdbe-6559de0cb59f",
   "metadata": {},
   "outputs": [
    {
     "name": "stdout",
     "output_type": "stream",
     "text": [
      "x =  1\n",
      "y =  2\n",
      "z =  3\n"
     ]
    },
    {
     "data": {
      "text/plain": [
       "6"
      ]
     },
     "execution_count": 1,
     "metadata": {},
     "output_type": "execute_result"
    }
   ],
   "source": [
    "def simple_sum():\n",
    "    x = int(input(\"x = \"))\n",
    "    y = int(input(\"y = \"))\n",
    "    z = int(input(\"z = \"))\n",
    "    return x + y + z\n",
    "\n",
    "simple_sum()"
   ]
  },
  {
   "cell_type": "code",
   "execution_count": null,
   "id": "1e1ae4e5-dc65-4540-95ae-c9ee751344a2",
   "metadata": {
    "tags": []
   },
   "outputs": [],
   "source": [
    "def main():\n",
    "    for i in range(1, 101):\n",
    "        if divisible_by_three_and_five(i):\n",
    "            print(\"fizzbuzz\")\n",
    "        elif divisible_by_three(i):\n",
    "            print(\"fizz\")\n",
    "        elif divisible_by_five(i):\n",
    "            print(\"buzz\")\n",
    "        else:\n",
    "            print(i)\n",
    "\n",
    "def divisible_by_three(n):\n",
    "    return n % 3 == 0\n",
    "\n",
    "def divisible_by_five(n):\n",
    "    return n % 5 == 0\n",
    "\n",
    "def divisible_by_three_and_five(n):\n",
    "    if ((n % 3) == 0) and ((n % 5) == 0):\n",
    "        return n\n",
    "\n",
    "main()"
   ]
  },
  {
   "cell_type": "code",
   "execution_count": 15,
   "id": "275c4b08-c6fb-45a9-976f-b0f17732552c",
   "metadata": {},
   "outputs": [
    {
     "data": {
      "text/plain": [
       "'E'"
      ]
     },
     "execution_count": 15,
     "metadata": {},
     "output_type": "execute_result"
    }
   ],
   "source": [
    "def shift_letter(letter, shift):\n",
    "    '''Shift Letter. \n",
    "    5 points.\n",
    "    \n",
    "    Shift a letter right by the given number.\n",
    "    Wrap the letter around if it reaches the end of the alphabet.\n",
    "\n",
    "    Examples:\n",
    "    shift_letter(\"A\", 0) -> \"A\"\n",
    "    shift_letter(\"A\", 2) -> \"C\"\n",
    "    shift_letter(\"Z\", 1) -> \"A\"\n",
    "    shift_letter(\"X\", 5) -> \"C\"\n",
    "    shift_letter(\" \", _) -> \" \"\n",
    "\n",
    "    *Note: the single underscore `_` is used to acknowledge the presence\n",
    "        of a value without caring about its contents.\n",
    "\n",
    "    Parameters\n",
    "    ----------\n",
    "    letter: str\n",
    "        a single uppercase English letter, or a space.\n",
    "    shift: int\n",
    "        the number by which to shift the letter. \n",
    "\n",
    "    Returns\n",
    "    -------\n",
    "    str\n",
    "        the letter, shifted appropriately, if a letter.\n",
    "        a single space if the original letter was a space.\n",
    "    '''\n",
    "    # Replace `pass` with your code. \n",
    "    # Stay within the function. Only use the parameters as input. The function should return your answer.\n",
    "    '''A is 65\n",
    "    Z is 90\n",
    "    min 65\n",
    "    max 90'''\n",
    "    if(letter == ' '):\n",
    "        return ' '\n",
    "\n",
    "    shift = (shift + ord(letter.title()) - 65) % 26\n",
    "    return str(chr(shift + 65))\n",
    "\n",
    "shift_letter(\"Z\", 5)"
   ]
  },
  {
   "cell_type": "code",
   "execution_count": 18,
   "id": "03759d5d-d97a-4b7f-a263-ff7f696f217e",
   "metadata": {},
   "outputs": [
    {
     "data": {
      "text/plain": [
       "'YJCV VJG HWEM'"
      ]
     },
     "execution_count": 18,
     "metadata": {},
     "output_type": "execute_result"
    }
   ],
   "source": [
    "def caesar_cipher(message, shift):\n",
    "    '''Caesar Cipher. \n",
    "    10 points.\n",
    "    \n",
    "    Apply a shift number to a string of uppercase English letters and spaces.\n",
    "\n",
    "    Parameters\n",
    "    ----------\n",
    "    message: str\n",
    "        a string of uppercase English letters and spaces.\n",
    "    shift: int\n",
    "        the number by which to shift the letters. \n",
    "\n",
    "    Returns\n",
    "    -------\n",
    "    str\n",
    "        the message, shifted appropriately.\n",
    "    '''\n",
    "    # Replace `pass` with your code. \n",
    "    # Stay within the function. Only use the parameters as input. The function should return your answer.\n",
    "    shifted_string = \"\"\n",
    "    for characters in message:\n",
    "        shifted_string += shift_letter(characters, shift)\n",
    "\n",
    "    return shifted_string\n",
    "\n",
    "caesar_cipher(\"what the fuck\", 2)"
   ]
  },
  {
   "cell_type": "code",
   "execution_count": 20,
   "id": "72e610b2-19fe-496e-a761-cc61f4881314",
   "metadata": {},
   "outputs": [
    {
     "data": {
      "text/plain": [
       "'A'"
      ]
     },
     "execution_count": 20,
     "metadata": {},
     "output_type": "execute_result"
    }
   ],
   "source": [
    "def shift_by_letter(letter, letter_shift):\n",
    "    '''Shift By Letter. \n",
    "    10 points.\n",
    "    \n",
    "    Shift a letter to the right using the number equivalent of another letter.\n",
    "    The shift letter is any letter from A to Z, where A represents 0, B represents 1, \n",
    "        ..., Z represents 25.\n",
    "\n",
    "    Examples:\n",
    "    shift_by_letter(\"A\", \"A\") -> \"A\"\n",
    "    shift_by_letter(\"A\", \"C\") -> \"C\"\n",
    "    shift_by_letter(\"B\", \"K\") -> \"L\"\n",
    "    shift_by_letter(\" \", _) -> \" \"\n",
    "\n",
    "    Parameters\n",
    "    ----------\n",
    "    letter: str\n",
    "        a single uppercase English letter, or a space.\n",
    "    letter_shift: str\n",
    "        a single uppercase English letter.\n",
    "\n",
    "    Returns\n",
    "    -------\n",
    "    str\n",
    "        the letter, shifted appropriately.\n",
    "    '''\n",
    "    # Replace `pass` with your code. \n",
    "    # Stay within the function. Only use the parameters as input. The function should return your answer.\n",
    "    # first we get the ordinal value of the letter_shift\n",
    "\n",
    "    if(letter == ' '):\n",
    "        return ' '\n",
    "\n",
    "    shift_ordinal = ord(letter_shift.title()) - 65\n",
    "    # then we shift the input\n",
    "    return shift_letter(letter, shift_ordinal)\n",
    "\n",
    "shift_by_letter(\"Z\", \"B\")"
   ]
  },
  {
   "cell_type": "code",
   "execution_count": 32,
   "id": "d6b5957c",
   "metadata": {},
   "outputs": [
    {
     "data": {
      "text/plain": [
       "'AOTSRIOALRH_EMRNGIMA_PTT'"
      ]
     },
     "execution_count": 32,
     "metadata": {},
     "output_type": "execute_result"
    }
   ],
   "source": [
    "def scytale_cipher(message, shift):\n",
    "    '''Scytale Cipher.\n",
    "    15 points.\n",
    "    \n",
    "    Encrypts a message by simulating a scytale cipher.\n",
    "\n",
    "    A scytale is a cylinder around which you can wrap a long strip of \n",
    "        parchment that contained a string of apparent gibberish. The parchment, \n",
    "        when read using the scytale, would reveal a message due to every nth \n",
    "        letter now appearing next to each other, revealing a proper message.\n",
    "    This encryption method is obsolete and should never be used to encrypt\n",
    "        data in production settings.\n",
    "\n",
    "    You may read more about the method here:\n",
    "        https://en.wikipedia.org/wiki/Scytale\n",
    "\n",
    "    You may follow this algorithm to implement a scytale-style cipher:\n",
    "    1. Take a message to be encoded and a \"shift\" number. \n",
    "        For this example, we will use \"INFORMATION_AGE\" as \n",
    "        the message and 3 as the shift.\n",
    "    2. Check if the length of the message is a multiple of \n",
    "        the shift. If it is not, add additional underscores \n",
    "        to the end of the message until it is. \n",
    "        In this example, \"INFORMATION_AGE\" is already a multiple of 3, \n",
    "        so we will leave it alone.\n",
    "    3. This is the tricky part. Construct the encoded message. \n",
    "        For each index i in the encoded message, use the character at the index\n",
    "        (i // shift) + (len(message) // shift) * (i % shift) of the raw message. \n",
    "        If this number doesn't make sense, you can play around with the cipher at\n",
    "         https://dencode.com/en/cipher/scytale to try to understand it.\n",
    "    4. Return the encoded message. In this case, \n",
    "        the output should be \"IMNNA_FTAOIGROE\".\n",
    "\n",
    "    Example:\n",
    "    scytale_cipher(\"INFORMATION_AGE\", 3) -> \"IMNNA_FTAOIGROE\"\n",
    "    scytale_cipher(\"INFORMATION_AGE\", 4) -> \"IRIANMOGFANEOT__\"\n",
    "    scytale_cipher(\"ALGORITHMS_ARE_IMPORTANT\", 8) -> \"AOTSRIOALRH_EMRNGIMA_PTT\"\n",
    "\n",
    "    Parameters\n",
    "    ----------\n",
    "    message: str\n",
    "        a string of uppercase English letters and underscores (underscores represent spaces)\n",
    "    shift: int\n",
    "        a positive int that does not exceed the length of message\n",
    "\n",
    "    Returns\n",
    "    -------\n",
    "    str\n",
    "        the encoded message\n",
    "    '''\n",
    "    # Replace `pass` with your code. \n",
    "    # Stay within the function. Only use the parameters as input. The function should return your answer.\n",
    "\n",
    "    # check if the length of the message is a multiple of the shift\n",
    "    while(len(message) % shift != 0):\n",
    "        message += '_'\n",
    "\n",
    "    newStr : str = \"\"\n",
    "    for i in range(len(message)):\n",
    "        newStr += message[(i // shift) + (len(message) // shift) * (i % shift)]\n",
    "\n",
    "    return newStr\n",
    "\n",
    "scytale_cipher(\"ALGORITHMS_ARE_IMPORTANT\", 8)"
   ]
  },
  {
   "cell_type": "code",
   "execution_count": 59,
   "id": "1f157f83",
   "metadata": {},
   "outputs": [
    {
     "data": {
      "text/plain": [
       "'IIIGGGRRROOOEEE'"
      ]
     },
     "execution_count": 59,
     "metadata": {},
     "output_type": "execute_result"
    }
   ],
   "source": [
    "def scytale_decipher(message, shift):\n",
    "    '''Scytale De-cipher.\n",
    "    15 points.\n",
    "\n",
    "    Decrypts a message that was originally encrypted with the `scytale_cipher` function above.\n",
    "\n",
    "    Example:\n",
    "    scytale_decipher(\"IMNNA_FTAOIGROE\", 3) -> \"INFORMATION_AGE\"\n",
    "    scytale_decipher(\"AOTSRIOALRH_EMRNGIMA_PTT\", 8) -> \"ALGORITHMS_ARE_IMPORTANT\"\n",
    "    scytale_decipher(\"IRIANMOGFANEOT__\", 4) -> \"INFORMATION_AGE_\"\n",
    "\n",
    "    There is no further brief for this number.\n",
    "    \n",
    "    Parameters\n",
    "    ----------\n",
    "    message: str\n",
    "        a string of uppercase English letters and underscores (underscores represent spaces)\n",
    "    shift: int\n",
    "        a positive int that does not exceed the length of message\n",
    "\n",
    "    Returns\n",
    "    -------\n",
    "    str\n",
    "        the decoded message\n",
    "    '''\n",
    "    # Replace `pass` with your code. \n",
    "    # Stay within the function. Only use the parameters as input. The function should return your answer.\n",
    "    # just reverse it\n",
    "\n",
    "    # Reverse this algorithm\n",
    "    # newStr += message[(i // shift) + (len(message) // shift) * (i % shift)]\n",
    "\n",
    "    reverseString : str = \"\"\n",
    "    potentialInverse : int = 1\n",
    "    for i in range(len(message)):\n",
    "        for x in range(0, shift):\n",
    "            if(potentialInverse != 1):\n",
    "                potentialInverse = (i * x) % shift\n",
    "\n",
    "        firstop = (i // shift) + (len(message) // shift)\n",
    "        notFirstOp = (len(message) // shift) - (i // shift) \n",
    "        reverseString += message[(i // shift) - (len(message) // shift) * (potentialInverse)]\n",
    "\n",
    "    \n",
    "    return reverseString\n",
    "\n",
    "scytale_decipher(\"IMNNA_FTAOIGROE\", 3)"
   ]
  },
  {
   "cell_type": "code",
   "execution_count": null,
   "id": "3ddf6b6f",
   "metadata": {},
   "outputs": [],
   "source": []
  }
 ],
 "metadata": {
  "kernelspec": {
   "display_name": "Python 3.8.9 64-bit",
   "language": "python",
   "name": "python3"
  },
  "language_info": {
   "codemirror_mode": {
    "name": "ipython",
    "version": 3
   },
   "file_extension": ".py",
   "mimetype": "text/x-python",
   "name": "python",
   "nbconvert_exporter": "python",
   "pygments_lexer": "ipython3",
   "version": "3.8.9"
  },
  "vscode": {
   "interpreter": {
    "hash": "31f2aee4e71d21fbe5cf8b01ff0e069b9275f58929596ceb00d14d90e3e16cd6"
   }
  }
 },
 "nbformat": 4,
 "nbformat_minor": 5
}
