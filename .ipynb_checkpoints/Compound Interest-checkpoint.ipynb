{
 "cells": [
  {
   "cell_type": "code",
   "execution_count": 2,
   "id": "d0bcb62b-97af-4820-975b-9947c29e237d",
   "metadata": {},
   "outputs": [
    {
     "data": {
      "text/plain": [
       "14188.938045363726"
      ]
     },
     "execution_count": 2,
     "metadata": {},
     "output_type": "execute_result"
    }
   ],
   "source": [
    "P = 10_000\n",
    "r = 0.07\n",
    "n = 100\n",
    "t = 5\n",
    "\n",
    "P * ((1 + (r / n)) ** (n * t))"
   ]
  },
  {
   "cell_type": "code",
   "execution_count": 3,
   "id": "f81402e5-9c95-4aaf-8f61-a643e67f0bc9",
   "metadata": {},
   "outputs": [
    {
     "data": {
      "text/plain": [
       "14188.938045363726"
      ]
     },
     "execution_count": 3,
     "metadata": {},
     "output_type": "execute_result"
    }
   ],
   "source": [
    "def compute_compound_interest(P, r, n, t):\n",
    "    return P * ((1 + (r / n)) ** (n * t))\n",
    "compute_compound_interest(10000, 0.07, 100, 5)"
   ]
  },
  {
   "cell_type": "code",
   "execution_count": null,
   "id": "25f742f3-ff37-446d-8487-903c3b356e2f",
   "metadata": {},
   "outputs": [],
   "source": []
  }
 ],
 "metadata": {
  "kernelspec": {
   "display_name": "Python 3 (ipykernel)",
   "language": "python",
   "name": "python3"
  },
  "language_info": {
   "codemirror_mode": {
    "name": "ipython",
    "version": 3
   },
   "file_extension": ".py",
   "mimetype": "text/x-python",
   "name": "python",
   "nbconvert_exporter": "python",
   "pygments_lexer": "ipython3",
   "version": "3.9.12"
  }
 },
 "nbformat": 4,
 "nbformat_minor": 5
}
