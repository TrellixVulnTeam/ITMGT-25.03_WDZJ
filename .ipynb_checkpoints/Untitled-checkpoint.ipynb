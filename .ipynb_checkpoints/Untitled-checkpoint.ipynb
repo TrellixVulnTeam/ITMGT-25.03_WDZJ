{
 "cells": [
  {
   "cell_type": "code",
   "execution_count": 3,
   "id": "4a2d83d2-42b8-4c72-8aa0-406ce2a744f6",
   "metadata": {},
   "outputs": [
    {
     "name": "stdin",
     "output_type": "stream",
     "text": [
      "What's your name?      angel mendi      \n"
     ]
    },
    {
     "name": "stdout",
     "output_type": "stream",
     "text": [
      "hello, Angel Mendi\n"
     ]
    }
   ],
   "source": [
    "name = input(\"What's your name? \").strip().title()\n",
    "print(f\"hello, {name}\")"
   ]
  },
  {
   "cell_type": "code",
   "execution_count": 9,
   "id": "a9334f97-ff32-4b93-bdbe-6559de0cb59f",
   "metadata": {},
   "outputs": [
    {
     "name": "stdin",
     "output_type": "stream",
     "text": [
      "x =  1\n",
      "y =  2\n",
      "z =  3\n"
     ]
    },
    {
     "data": {
      "text/plain": [
       "6"
      ]
     },
     "execution_count": 9,
     "metadata": {},
     "output_type": "execute_result"
    }
   ],
   "source": [
    "def simple_sum():\n",
    "    x = int(input(\"x = \"))\n",
    "    y = int(input(\"y = \"))\n",
    "    z = int(input(\"z = \"))\n",
    "    return x + y + z\n",
    "\n",
    "simple_sum()"
   ]
  },
  {
   "cell_type": "code",
   "execution_count": null,
   "id": "1e1ae4e5-dc65-4540-95ae-c9ee751344a2",
   "metadata": {},
   "outputs": [],
   "source": []
  }
 ],
 "metadata": {
  "kernelspec": {
   "display_name": "Python 3 (ipykernel)",
   "language": "python",
   "name": "python3"
  },
  "language_info": {
   "codemirror_mode": {
    "name": "ipython",
    "version": 3
   },
   "file_extension": ".py",
   "mimetype": "text/x-python",
   "name": "python",
   "nbconvert_exporter": "python",
   "pygments_lexer": "ipython3",
   "version": "3.9.12"
  }
 },
 "nbformat": 4,
 "nbformat_minor": 5
}
